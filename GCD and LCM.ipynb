{
 "cells": [
  {
   "cell_type": "markdown",
   "metadata": {},
   "source": [
    "### GCD (Greatest Common Divisor): GCD of two numbers is the largest number that divides both of them. \n",
    "\n"
   ]
  },
  {
   "cell_type": "code",
   "execution_count": 1,
   "metadata": {},
   "outputs": [],
   "source": [
    "#   number1=20\n",
    "#   number2=10\n",
    "\n",
    "#   GCD of (20,10)=10,  10 is largest number that divide both of them \n"
   ]
  },
  {
   "cell_type": "code",
   "execution_count": 2,
   "metadata": {},
   "outputs": [
    {
     "name": "stdout",
     "output_type": "stream",
     "text": [
      "10\n",
      "22\n",
      "a: 10 b: 22\n",
      "a: 2 b: 10\n",
      "a: 0 b: 2\n",
      "gcd: 2\n"
     ]
    }
   ],
   "source": [
    "# Basic Euclidean Algorithm for GCD \n",
    "def find_GCD(a,b):\n",
    "    # print(\"a:\",a,\"b:\",b) # this line is only for understanging. if want to see how its work cheking a and b value \n",
    "    if a==0:\n",
    "        return b\n",
    "    return find_GCD(b%a,a)\n",
    "\n",
    "a=int(input())\n",
    "b=int(input())\n",
    "\n",
    "gcd=find_GCD(a,b)\n",
    "print(\"gcd:\",gcd)"
   ]
  },
  {
   "cell_type": "markdown",
   "metadata": {},
   "source": [
    "### LCM (Least Common Multiple) of two numbers is the smallest number which can be divided by both numbers. "
   ]
  },
  {
   "cell_type": "code",
   "execution_count": 5,
   "metadata": {},
   "outputs": [
    {
     "name": "stdout",
     "output_type": "stream",
     "text": [
      "LCM: 110\n"
     ]
    }
   ],
   "source": [
    "# LCM(a, b) = (a x b) / GCD(a, b)\n",
    "\n",
    "lcm=(a*b)//gcd\n",
    "print(\"LCM:\",lcm)"
   ]
  },
  {
   "cell_type": "code",
   "execution_count": null,
   "metadata": {},
   "outputs": [],
   "source": []
  }
 ],
 "metadata": {
  "kernelspec": {
   "display_name": "Python 3",
   "language": "python",
   "name": "python3"
  },
  "language_info": {
   "codemirror_mode": {
    "name": "ipython",
    "version": 3
   },
   "file_extension": ".py",
   "mimetype": "text/x-python",
   "name": "python",
   "nbconvert_exporter": "python",
   "pygments_lexer": "ipython3",
   "version": "3.7.1"
  }
 },
 "nbformat": 4,
 "nbformat_minor": 2
}
